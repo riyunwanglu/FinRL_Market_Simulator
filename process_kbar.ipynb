{
 "cells": [
  {
   "cell_type": "code",
   "execution_count": null,
   "metadata": {},
   "outputs": [],
   "source": [
    "import pandas as pd\n",
    "kbar_folder = '/home/syl/Code/FinRL_Market_Simulator/data/kbar_m5'"
   ]
  },
  {
   "cell_type": "code",
   "execution_count": 37,
   "metadata": {},
   "outputs": [],
   "source": [
    "import os\n",
    "\n",
    "df_old = pd.read_csv(r\"C:\\Users\\songyunlu\\Downloads\\minute_bars_2017_2020_202405101655.csv\")\n",
    "df_new = pd.read_csv(r\"C:\\Users\\songyunlu\\Downloads\\minute_bars_latest_202405101655.csv\")\n",
    "\n",
    "\n",
    "\n",
    "# 合并从数据库导出的 m5 kbar数据\n",
    "df_kbar_5 = pd.concat([df_old, df_new])\n",
    "df_kbar_5_group = df_kbar_5.groupby('SecuCode')\n",
    "for stock_code, df_kbar in df_kbar_5_group:\n",
    "    df_kbar.drop_duplicates().to_csv(os.path.join(kbar_folder, f'{stock_code}.csv'), index=False)"
   ]
  },
  {
   "cell_type": "code",
   "execution_count": 9,
   "metadata": {},
   "outputs": [],
   "source": [
    "import os\n",
    "\n",
    "# 补充 成交量分布数据以及过去60天的成交量平均分布数据\n",
    "backdays = 60\n",
    "\n",
    "for file in os.listdir(kbar_folder):\n",
    "    df = pd.read_csv(os.path.join(kbar_folder, file))\n",
    "    tmp_list = []\n",
    "    for trading_day, sub_df in df.groupby('TradingDay'):\n",
    "        total_vol = sub_df['Volume'].sum()\n",
    "        sub_df[f'vol_percentage'] = sub_df['Volume'] / total_vol\n",
    "        tmp_list.append(sub_df)\n",
    "    df = pd.concat(tmp_list)\n",
    "    \n",
    "    tmp_list = []\n",
    "    for update_time, sub_df in df.groupby('UpdateTime'):\n",
    "        sub_df = sub_df.sort_values('TradingDay')\n",
    "        sub_df[f'past_{backdays}_day_avg_vol'] = sub_df['vol_percentage'].rolling(window=backdays).mean().shift(1)\n",
    "        tmp_list.append(sub_df)\n",
    "    df = pd.concat(tmp_list).sort_values(by=['TradingDay','UpdateTime'])\n",
    "    df.to_csv(os.path.join(kbar_folder, file), index=False)\n",
    "    \n",
    "    "
   ]
  }
 ],
 "metadata": {
  "kernelspec": {
   "display_name": "base",
   "language": "python",
   "name": "python3"
  },
  "language_info": {
   "codemirror_mode": {
    "name": "ipython",
    "version": 3
   },
   "file_extension": ".py",
   "mimetype": "text/x-python",
   "name": "python",
   "nbconvert_exporter": "python",
   "pygments_lexer": "ipython3",
   "version": "3.11.7"
  }
 },
 "nbformat": 4,
 "nbformat_minor": 2
}
